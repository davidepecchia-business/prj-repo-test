{
 "cells": [
  {
   "cell_type": "markdown",
   "metadata": {},
   "source": [
    "## R Program"
   ]
  },
  {
   "cell_type": "code",
   "execution_count": 1,
   "metadata": {
    "scrolled": true
   },
   "outputs": [
    {
     "name": "stderr",
     "output_type": "stream",
     "text": [
      "SWAT 1.4.1\n",
      "\n"
     ]
    },
    {
     "name": "stdout",
     "output_type": "stream",
     "text": [
      "Enter password········\n"
     ]
    },
    {
     "name": "stderr",
     "output_type": "stream",
     "text": [
      "NOTE: Connecting to CAS and generating CAS action functions for loaded\n",
      "\n",
      "      action sets...\n",
      "\n",
      "NOTE: To generate the functions with signatures (for tab completion), set \n",
      "\n",
      "      options(cas.gen.function.sig=TRUE).\n",
      "\n"
     ]
    }
   ],
   "source": [
    "library(swat)\n",
    "\n",
    "# Import the other necessary R packages\n",
    "\n",
    "library(ggplot2)\n",
    "#library(ROCR)\n",
    "#library(pmml)\n",
    "#library(randomForest)\n",
    "#library(caret) \n",
    "\n",
    "# Connect to CAS server using appropriate credentials \n",
    "\n",
    "s = CAS(\"pdcesx12145.exnet.sas.com\", port = 8777, username = \"sasdemo\", password = getPass(\"Enter password\"))"
   ]
  },
  {
   "cell_type": "code",
   "execution_count": 7,
   "metadata": {},
   "outputs": [
    {
     "data": {
      "text/html": [
       "<strong>$Fetch</strong> = <table>\n",
       "<caption>A casDataFrame: 20 × 14</caption>\n",
       "<thead>\n",
       "\t<tr><th scope=col>_Index_</th><th scope=col>BAD</th><th scope=col>LOAN</th><th scope=col>MORTDUE</th><th scope=col>VALUE</th><th scope=col>REASON</th><th scope=col>JOB</th><th scope=col>YOJ</th><th scope=col>DEROG</th><th scope=col>DELINQ</th><th scope=col>CLAGE</th><th scope=col>NINQ</th><th scope=col>CLNO</th><th scope=col>DEBTINC</th></tr>\n",
       "\t<tr><th scope=col>&lt;int&gt;</th><th scope=col>&lt;dbl&gt;</th><th scope=col>&lt;dbl&gt;</th><th scope=col>&lt;dbl&gt;</th><th scope=col>&lt;dbl&gt;</th><th scope=col>&lt;chr&gt;</th><th scope=col>&lt;chr&gt;</th><th scope=col>&lt;dbl&gt;</th><th scope=col>&lt;dbl&gt;</th><th scope=col>&lt;dbl&gt;</th><th scope=col>&lt;dbl&gt;</th><th scope=col>&lt;dbl&gt;</th><th scope=col>&lt;dbl&gt;</th><th scope=col>&lt;dbl&gt;</th></tr>\n",
       "</thead>\n",
       "<tbody>\n",
       "\t<tr><td> 1</td><td>1</td><td>1100</td><td> 25860</td><td> 39025</td><td>HomeImp</td><td>Other </td><td>10.5</td><td>  0</td><td>  0</td><td> 94.36667</td><td>  1</td><td>  9</td><td>      NaN</td></tr>\n",
       "\t<tr><td> 2</td><td>1</td><td>1300</td><td> 70053</td><td> 68400</td><td>HomeImp</td><td>Other </td><td> 7.0</td><td>  0</td><td>  2</td><td>121.83333</td><td>  0</td><td> 14</td><td>      NaN</td></tr>\n",
       "\t<tr><td> 3</td><td>1</td><td>1500</td><td> 13500</td><td> 16700</td><td>HomeImp</td><td>Other </td><td> 4.0</td><td>  0</td><td>  0</td><td>149.46667</td><td>  1</td><td> 10</td><td>      NaN</td></tr>\n",
       "\t<tr><td> 4</td><td>1</td><td>1500</td><td>   NaN</td><td>   NaN</td><td>       </td><td>      </td><td> NaN</td><td>NaN</td><td>NaN</td><td>      NaN</td><td>NaN</td><td>NaN</td><td>      NaN</td></tr>\n",
       "\t<tr><td> 5</td><td>0</td><td>1700</td><td> 97800</td><td>112000</td><td>HomeImp</td><td>Office</td><td> 3.0</td><td>  0</td><td>  0</td><td> 93.33333</td><td>  0</td><td> 14</td><td>      NaN</td></tr>\n",
       "\t<tr><td> 6</td><td>1</td><td>1700</td><td> 30548</td><td> 40320</td><td>HomeImp</td><td>Other </td><td> 9.0</td><td>  0</td><td>  0</td><td>101.46600</td><td>  1</td><td>  8</td><td>37.113614</td></tr>\n",
       "\t<tr><td> 7</td><td>1</td><td>1800</td><td> 48649</td><td> 57037</td><td>HomeImp</td><td>Other </td><td> 5.0</td><td>  3</td><td>  2</td><td> 77.10000</td><td>  1</td><td> 17</td><td>      NaN</td></tr>\n",
       "\t<tr><td> 8</td><td>1</td><td>1800</td><td> 28502</td><td> 43034</td><td>HomeImp</td><td>Other </td><td>11.0</td><td>  0</td><td>  0</td><td> 88.76603</td><td>  0</td><td>  8</td><td>36.884894</td></tr>\n",
       "\t<tr><td> 9</td><td>1</td><td>2000</td><td> 32700</td><td> 46740</td><td>HomeImp</td><td>Other </td><td> 3.0</td><td>  0</td><td>  2</td><td>216.93333</td><td>  1</td><td> 12</td><td>      NaN</td></tr>\n",
       "\t<tr><td>10</td><td>1</td><td>2000</td><td>   NaN</td><td> 62250</td><td>HomeImp</td><td>Sales </td><td>16.0</td><td>  0</td><td>  0</td><td>115.80000</td><td>  0</td><td> 13</td><td>      NaN</td></tr>\n",
       "\t<tr><td>11</td><td>1</td><td>2000</td><td> 22608</td><td>   NaN</td><td>       </td><td>      </td><td>18.0</td><td>NaN</td><td>NaN</td><td>      NaN</td><td>NaN</td><td>NaN</td><td>      NaN</td></tr>\n",
       "\t<tr><td>12</td><td>1</td><td>2000</td><td> 20627</td><td> 29800</td><td>HomeImp</td><td>Office</td><td>11.0</td><td>  0</td><td>  1</td><td>122.53333</td><td>  1</td><td>  9</td><td>      NaN</td></tr>\n",
       "\t<tr><td>13</td><td>1</td><td>2000</td><td> 45000</td><td> 55000</td><td>HomeImp</td><td>Other </td><td> 3.0</td><td>  0</td><td>  0</td><td> 86.06667</td><td>  2</td><td> 25</td><td>      NaN</td></tr>\n",
       "\t<tr><td>14</td><td>0</td><td>2000</td><td> 64536</td><td> 87400</td><td>       </td><td>Mgr   </td><td> 2.5</td><td>  0</td><td>  0</td><td>147.13333</td><td>  0</td><td> 24</td><td>      NaN</td></tr>\n",
       "\t<tr><td>15</td><td>1</td><td>2100</td><td> 71000</td><td> 83850</td><td>HomeImp</td><td>Other </td><td> 8.0</td><td>  0</td><td>  1</td><td>123.00000</td><td>  0</td><td> 16</td><td>      NaN</td></tr>\n",
       "\t<tr><td>16</td><td>1</td><td>2200</td><td> 24280</td><td> 34687</td><td>HomeImp</td><td>Other </td><td> NaN</td><td>  0</td><td>  1</td><td>300.86667</td><td>  0</td><td>  8</td><td>      NaN</td></tr>\n",
       "\t<tr><td>17</td><td>1</td><td>2200</td><td> 90957</td><td>102600</td><td>HomeImp</td><td>Mgr   </td><td> 7.0</td><td>  2</td><td>  6</td><td>122.90000</td><td>  1</td><td> 22</td><td>      NaN</td></tr>\n",
       "\t<tr><td>18</td><td>1</td><td>2200</td><td> 23030</td><td>   NaN</td><td>       </td><td>      </td><td>19.0</td><td>NaN</td><td>NaN</td><td>      NaN</td><td>NaN</td><td>NaN</td><td> 3.711312</td></tr>\n",
       "\t<tr><td>19</td><td>1</td><td>2300</td><td> 28192</td><td> 40150</td><td>HomeImp</td><td>Other </td><td> 4.5</td><td>  0</td><td>  0</td><td> 54.60000</td><td>  1</td><td> 16</td><td>      NaN</td></tr>\n",
       "\t<tr><td>20</td><td>0</td><td>2300</td><td>102370</td><td>120953</td><td>HomeImp</td><td>Office</td><td> 2.0</td><td>  0</td><td>  0</td><td> 90.99253</td><td>  0</td><td> 13</td><td>31.588503</td></tr>\n",
       "</tbody>\n",
       "</table>\n"
      ],
      "text/latex": [
       "\\textbf{\\$Fetch} = A casDataFrame: 20 × 14\n",
       "\\begin{tabular}{r|llllllllllllll}\n",
       " \\_Index\\_ & BAD & LOAN & MORTDUE & VALUE & REASON & JOB & YOJ & DEROG & DELINQ & CLAGE & NINQ & CLNO & DEBTINC\\\\\n",
       " <int> & <dbl> & <dbl> & <dbl> & <dbl> & <chr> & <chr> & <dbl> & <dbl> & <dbl> & <dbl> & <dbl> & <dbl> & <dbl>\\\\\n",
       "\\hline\n",
       "\t  1 & 1 & 1100 &  25860 &  39025 & HomeImp & Other  & 10.5 &   0 &   0 &  94.36667 &   1 &   9 &       NaN\\\\\n",
       "\t  2 & 1 & 1300 &  70053 &  68400 & HomeImp & Other  &  7.0 &   0 &   2 & 121.83333 &   0 &  14 &       NaN\\\\\n",
       "\t  3 & 1 & 1500 &  13500 &  16700 & HomeImp & Other  &  4.0 &   0 &   0 & 149.46667 &   1 &  10 &       NaN\\\\\n",
       "\t  4 & 1 & 1500 &    NaN &    NaN &         &        &  NaN & NaN & NaN &       NaN & NaN & NaN &       NaN\\\\\n",
       "\t  5 & 0 & 1700 &  97800 & 112000 & HomeImp & Office &  3.0 &   0 &   0 &  93.33333 &   0 &  14 &       NaN\\\\\n",
       "\t  6 & 1 & 1700 &  30548 &  40320 & HomeImp & Other  &  9.0 &   0 &   0 & 101.46600 &   1 &   8 & 37.113614\\\\\n",
       "\t  7 & 1 & 1800 &  48649 &  57037 & HomeImp & Other  &  5.0 &   3 &   2 &  77.10000 &   1 &  17 &       NaN\\\\\n",
       "\t  8 & 1 & 1800 &  28502 &  43034 & HomeImp & Other  & 11.0 &   0 &   0 &  88.76603 &   0 &   8 & 36.884894\\\\\n",
       "\t  9 & 1 & 2000 &  32700 &  46740 & HomeImp & Other  &  3.0 &   0 &   2 & 216.93333 &   1 &  12 &       NaN\\\\\n",
       "\t 10 & 1 & 2000 &    NaN &  62250 & HomeImp & Sales  & 16.0 &   0 &   0 & 115.80000 &   0 &  13 &       NaN\\\\\n",
       "\t 11 & 1 & 2000 &  22608 &    NaN &         &        & 18.0 & NaN & NaN &       NaN & NaN & NaN &       NaN\\\\\n",
       "\t 12 & 1 & 2000 &  20627 &  29800 & HomeImp & Office & 11.0 &   0 &   1 & 122.53333 &   1 &   9 &       NaN\\\\\n",
       "\t 13 & 1 & 2000 &  45000 &  55000 & HomeImp & Other  &  3.0 &   0 &   0 &  86.06667 &   2 &  25 &       NaN\\\\\n",
       "\t 14 & 0 & 2000 &  64536 &  87400 &         & Mgr    &  2.5 &   0 &   0 & 147.13333 &   0 &  24 &       NaN\\\\\n",
       "\t 15 & 1 & 2100 &  71000 &  83850 & HomeImp & Other  &  8.0 &   0 &   1 & 123.00000 &   0 &  16 &       NaN\\\\\n",
       "\t 16 & 1 & 2200 &  24280 &  34687 & HomeImp & Other  &  NaN &   0 &   1 & 300.86667 &   0 &   8 &       NaN\\\\\n",
       "\t 17 & 1 & 2200 &  90957 & 102600 & HomeImp & Mgr    &  7.0 &   2 &   6 & 122.90000 &   1 &  22 &       NaN\\\\\n",
       "\t 18 & 1 & 2200 &  23030 &    NaN &         &        & 19.0 & NaN & NaN &       NaN & NaN & NaN &  3.711312\\\\\n",
       "\t 19 & 1 & 2300 &  28192 &  40150 & HomeImp & Other  &  4.5 &   0 &   0 &  54.60000 &   1 &  16 &       NaN\\\\\n",
       "\t 20 & 0 & 2300 & 102370 & 120953 & HomeImp & Office &  2.0 &   0 &   0 &  90.99253 &   0 &  13 & 31.588503\\\\\n",
       "\\end{tabular}\n"
      ],
      "text/markdown": [
       "**$Fetch** = \n",
       "A casDataFrame: 20 × 14\n",
       "\n",
       "| _Index_ &lt;int&gt; | BAD &lt;dbl&gt; | LOAN &lt;dbl&gt; | MORTDUE &lt;dbl&gt; | VALUE &lt;dbl&gt; | REASON &lt;chr&gt; | JOB &lt;chr&gt; | YOJ &lt;dbl&gt; | DEROG &lt;dbl&gt; | DELINQ &lt;dbl&gt; | CLAGE &lt;dbl&gt; | NINQ &lt;dbl&gt; | CLNO &lt;dbl&gt; | DEBTINC &lt;dbl&gt; |\n",
       "|---|---|---|---|---|---|---|---|---|---|---|---|---|---|\n",
       "|  1 | 1 | 1100 |  25860 |  39025 | HomeImp | Other  | 10.5 |   0 |   0 |  94.36667 |   1 |   9 |       NaN |\n",
       "|  2 | 1 | 1300 |  70053 |  68400 | HomeImp | Other  |  7.0 |   0 |   2 | 121.83333 |   0 |  14 |       NaN |\n",
       "|  3 | 1 | 1500 |  13500 |  16700 | HomeImp | Other  |  4.0 |   0 |   0 | 149.46667 |   1 |  10 |       NaN |\n",
       "|  4 | 1 | 1500 |    NaN |    NaN | <!----> | <!----> |  NaN | NaN | NaN |       NaN | NaN | NaN |       NaN |\n",
       "|  5 | 0 | 1700 |  97800 | 112000 | HomeImp | Office |  3.0 |   0 |   0 |  93.33333 |   0 |  14 |       NaN |\n",
       "|  6 | 1 | 1700 |  30548 |  40320 | HomeImp | Other  |  9.0 |   0 |   0 | 101.46600 |   1 |   8 | 37.113614 |\n",
       "|  7 | 1 | 1800 |  48649 |  57037 | HomeImp | Other  |  5.0 |   3 |   2 |  77.10000 |   1 |  17 |       NaN |\n",
       "|  8 | 1 | 1800 |  28502 |  43034 | HomeImp | Other  | 11.0 |   0 |   0 |  88.76603 |   0 |   8 | 36.884894 |\n",
       "|  9 | 1 | 2000 |  32700 |  46740 | HomeImp | Other  |  3.0 |   0 |   2 | 216.93333 |   1 |  12 |       NaN |\n",
       "| 10 | 1 | 2000 |    NaN |  62250 | HomeImp | Sales  | 16.0 |   0 |   0 | 115.80000 |   0 |  13 |       NaN |\n",
       "| 11 | 1 | 2000 |  22608 |    NaN | <!----> | <!----> | 18.0 | NaN | NaN |       NaN | NaN | NaN |       NaN |\n",
       "| 12 | 1 | 2000 |  20627 |  29800 | HomeImp | Office | 11.0 |   0 |   1 | 122.53333 |   1 |   9 |       NaN |\n",
       "| 13 | 1 | 2000 |  45000 |  55000 | HomeImp | Other  |  3.0 |   0 |   0 |  86.06667 |   2 |  25 |       NaN |\n",
       "| 14 | 0 | 2000 |  64536 |  87400 | <!----> | Mgr    |  2.5 |   0 |   0 | 147.13333 |   0 |  24 |       NaN |\n",
       "| 15 | 1 | 2100 |  71000 |  83850 | HomeImp | Other  |  8.0 |   0 |   1 | 123.00000 |   0 |  16 |       NaN |\n",
       "| 16 | 1 | 2200 |  24280 |  34687 | HomeImp | Other  |  NaN |   0 |   1 | 300.86667 |   0 |   8 |       NaN |\n",
       "| 17 | 1 | 2200 |  90957 | 102600 | HomeImp | Mgr    |  7.0 |   2 |   6 | 122.90000 |   1 |  22 |       NaN |\n",
       "| 18 | 1 | 2200 |  23030 |    NaN | <!----> | <!----> | 19.0 | NaN | NaN |       NaN | NaN | NaN |  3.711312 |\n",
       "| 19 | 1 | 2300 |  28192 |  40150 | HomeImp | Other  |  4.5 |   0 |   0 |  54.60000 |   1 |  16 |       NaN |\n",
       "| 20 | 0 | 2300 | 102370 | 120953 | HomeImp | Office |  2.0 |   0 |   0 |  90.99253 |   0 |  13 | 31.588503 |\n",
       "\n"
      ],
      "text/plain": [
       "$Fetch\n",
       "   _Index_ BAD LOAN MORTDUE  VALUE  REASON    JOB  YOJ DEROG DELINQ     CLAGE\n",
       "1        1   1 1100   25860  39025 HomeImp  Other 10.5     0      0  94.36667\n",
       "2        2   1 1300   70053  68400 HomeImp  Other  7.0     0      2 121.83333\n",
       "3        3   1 1500   13500  16700 HomeImp  Other  4.0     0      0 149.46667\n",
       "4        4   1 1500     NaN    NaN                 NaN   NaN    NaN       NaN\n",
       "5        5   0 1700   97800 112000 HomeImp Office  3.0     0      0  93.33333\n",
       "6        6   1 1700   30548  40320 HomeImp  Other  9.0     0      0 101.46600\n",
       "7        7   1 1800   48649  57037 HomeImp  Other  5.0     3      2  77.10000\n",
       "8        8   1 1800   28502  43034 HomeImp  Other 11.0     0      0  88.76603\n",
       "9        9   1 2000   32700  46740 HomeImp  Other  3.0     0      2 216.93333\n",
       "10      10   1 2000     NaN  62250 HomeImp  Sales 16.0     0      0 115.80000\n",
       "11      11   1 2000   22608    NaN                18.0   NaN    NaN       NaN\n",
       "12      12   1 2000   20627  29800 HomeImp Office 11.0     0      1 122.53333\n",
       "13      13   1 2000   45000  55000 HomeImp  Other  3.0     0      0  86.06667\n",
       "14      14   0 2000   64536  87400            Mgr  2.5     0      0 147.13333\n",
       "15      15   1 2100   71000  83850 HomeImp  Other  8.0     0      1 123.00000\n",
       "16      16   1 2200   24280  34687 HomeImp  Other  NaN     0      1 300.86667\n",
       "17      17   1 2200   90957 102600 HomeImp    Mgr  7.0     2      6 122.90000\n",
       "18      18   1 2200   23030    NaN                19.0   NaN    NaN       NaN\n",
       "19      19   1 2300   28192  40150 HomeImp  Other  4.5     0      0  54.60000\n",
       "20      20   0 2300  102370 120953 HomeImp Office  2.0     0      0  90.99253\n",
       "   NINQ CLNO   DEBTINC\n",
       "1     1    9       NaN\n",
       "2     0   14       NaN\n",
       "3     1   10       NaN\n",
       "4   NaN  NaN       NaN\n",
       "5     0   14       NaN\n",
       "6     1    8 37.113614\n",
       "7     1   17       NaN\n",
       "8     0    8 36.884894\n",
       "9     1   12       NaN\n",
       "10    0   13       NaN\n",
       "11  NaN  NaN       NaN\n",
       "12    1    9       NaN\n",
       "13    2   25       NaN\n",
       "14    0   24       NaN\n",
       "15    0   16       NaN\n",
       "16    0    8       NaN\n",
       "17    1   22       NaN\n",
       "18  NaN  NaN  3.711312\n",
       "19    1   16       NaN\n",
       "20    0   13 31.588503\n"
      ]
     },
     "metadata": {},
     "output_type": "display_data"
    }
   ],
   "source": [
    "cas.table.fetch(\n",
    "  s, \n",
    "  table = list(name = 'hmeq', caslib = 'Public')\n",
    ")"
   ]
  },
  {
   "cell_type": "code",
   "execution_count": 8,
   "metadata": {
    "scrolled": true
   },
   "outputs": [
    {
     "data": {
      "text/html": [
       "<strong>$Summary</strong> = <table>\n",
       "<caption>A casDataFrame: 11 × 17</caption>\n",
       "<thead>\n",
       "\t<tr><th scope=col>Column</th><th scope=col>Min</th><th scope=col>Max</th><th scope=col>N</th><th scope=col>NMiss</th><th scope=col>Mean</th><th scope=col>Sum</th><th scope=col>Std</th><th scope=col>StdErr</th><th scope=col>Var</th><th scope=col>USS</th><th scope=col>CSS</th><th scope=col>CV</th><th scope=col>TValue</th><th scope=col>ProbT</th><th scope=col>Skewness</th><th scope=col>Kurtosis</th></tr>\n",
       "\t<tr><th scope=col>&lt;chr&gt;</th><th scope=col>&lt;dbl&gt;</th><th scope=col>&lt;dbl&gt;</th><th scope=col>&lt;dbl&gt;</th><th scope=col>&lt;dbl&gt;</th><th scope=col>&lt;dbl&gt;</th><th scope=col>&lt;dbl&gt;</th><th scope=col>&lt;dbl&gt;</th><th scope=col>&lt;dbl&gt;</th><th scope=col>&lt;dbl&gt;</th><th scope=col>&lt;dbl&gt;</th><th scope=col>&lt;dbl&gt;</th><th scope=col>&lt;dbl&gt;</th><th scope=col>&lt;dbl&gt;</th><th scope=col>&lt;dbl&gt;</th><th scope=col>&lt;dbl&gt;</th><th scope=col>&lt;dbl&gt;</th></tr>\n",
       "</thead>\n",
       "<tbody>\n",
       "\t<tr><td>BAD    </td><td>   0.0000000</td><td>     1.0000</td><td>5960</td><td>   0</td><td>1.994966e-01</td><td>     1189.00</td><td>3.996555e-01</td><td>5.176815e-03</td><td>1.597245e-01</td><td>1.189000e+03</td><td>9.517985e+02</td><td>200.33195</td><td> 38.53656</td><td>2.720203e-290</td><td>1.5043167</td><td> 0.2630568</td></tr>\n",
       "\t<tr><td>LOAN   </td><td>1100.0000000</td><td> 89900.0000</td><td>5960</td><td>   0</td><td>1.860797e+04</td><td>110903500.00</td><td>1.120748e+04</td><td>1.451727e+02</td><td>1.256076e+08</td><td>2.812185e+12</td><td>7.484958e+11</td><td> 60.22946</td><td>128.17819</td><td> 0.000000e+00</td><td>2.0237807</td><td> 6.9325898</td></tr>\n",
       "\t<tr><td>MORTDUE</td><td>2063.0000000</td><td>399550.0000</td><td>5442</td><td> 518</td><td>7.376082e+04</td><td>401406367.20</td><td>4.445761e+04</td><td>6.026523e+02</td><td>1.976479e+09</td><td>4.036208e+13</td><td>1.075402e+13</td><td> 60.27266</td><td>122.39365</td><td> 0.000000e+00</td><td>1.8144807</td><td> 6.4818663</td></tr>\n",
       "\t<tr><td>VALUE  </td><td>8000.0000000</td><td>855909.0000</td><td>5848</td><td> 112</td><td>1.017760e+05</td><td>595186333.04</td><td>5.738578e+04</td><td>7.504134e+02</td><td>3.293127e+09</td><td>7.983063e+13</td><td>1.925491e+13</td><td> 56.38436</td><td>135.62664</td><td> 0.000000e+00</td><td>3.0533443</td><td>24.3628049</td></tr>\n",
       "\t<tr><td>YOJ    </td><td>   0.0000000</td><td>    41.0000</td><td>5445</td><td> 515</td><td>8.922268e+00</td><td>    48581.75</td><td>7.573982e+00</td><td>1.026421e-01</td><td>5.736521e+01</td><td>7.457556e+05</td><td>3.122962e+05</td><td> 84.88853</td><td> 86.92605</td><td> 0.000000e+00</td><td>0.9884601</td><td> 0.3720725</td></tr>\n",
       "\t<tr><td>DEROG  </td><td>   0.0000000</td><td>    10.0000</td><td>5252</td><td> 708</td><td>2.545697e-01</td><td>     1337.00</td><td>8.460468e-01</td><td>1.167433e-02</td><td>7.157951e-01</td><td>4.099000e+03</td><td>3.758640e+03</td><td>332.34388</td><td> 21.80593</td><td>5.478603e-101</td><td>5.3208703</td><td>36.8727634</td></tr>\n",
       "\t<tr><td>DELINQ </td><td>   0.0000000</td><td>    15.0000</td><td>5380</td><td> 580</td><td>4.494424e-01</td><td>     2418.00</td><td>1.127266e+00</td><td>1.536863e-02</td><td>1.270728e+00</td><td>7.922000e+03</td><td>6.835248e+03</td><td>250.81434</td><td> 29.24414</td><td>1.326786e-174</td><td>4.0231496</td><td>23.5654487</td></tr>\n",
       "\t<tr><td>CLAGE  </td><td>   0.0000000</td><td>  1168.2336</td><td>5652</td><td> 308</td><td>1.797663e+02</td><td>  1016038.99</td><td>8.581009e+01</td><td>1.141398e+00</td><td>7.363372e+03</td><td>2.242600e+08</td><td>4.161041e+07</td><td> 47.73425</td><td>157.49651</td><td> 0.000000e+00</td><td>1.3434120</td><td> 7.5995493</td></tr>\n",
       "\t<tr><td>NINQ   </td><td>   0.0000000</td><td>    17.0000</td><td>5450</td><td> 510</td><td>1.186055e+00</td><td>     6464.00</td><td>1.728675e+00</td><td>2.341613e-02</td><td>2.988317e+00</td><td>2.395000e+04</td><td>1.628334e+04</td><td>145.74998</td><td> 50.65120</td><td> 0.000000e+00</td><td>2.6219842</td><td> 9.7865073</td></tr>\n",
       "\t<tr><td>CLNO   </td><td>   0.0000000</td><td>    71.0000</td><td>5738</td><td> 222</td><td>2.129610e+01</td><td>   122197.00</td><td>1.013893e+01</td><td>1.338480e-01</td><td>1.027980e+02</td><td>3.192071e+06</td><td>5.897519e+05</td><td> 47.60935</td><td>159.10653</td><td> 0.000000e+00</td><td>0.7750518</td><td> 1.1576727</td></tr>\n",
       "\t<tr><td>DEBTINC</td><td>   0.5244992</td><td>   203.3121</td><td>4693</td><td>1267</td><td>3.377992e+01</td><td>   158529.14</td><td>8.601746e+00</td><td>1.255629e-01</td><td>7.399004e+01</td><td>5.702262e+06</td><td>3.471613e+05</td><td> 25.46408</td><td>269.02783</td><td> 0.000000e+00</td><td>2.8523534</td><td>50.5040415</td></tr>\n",
       "</tbody>\n",
       "</table>\n"
      ],
      "text/latex": [
       "\\textbf{\\$Summary} = A casDataFrame: 11 × 17\n",
       "\\begin{tabular}{r|lllllllllllllllll}\n",
       " Column & Min & Max & N & NMiss & Mean & Sum & Std & StdErr & Var & USS & CSS & CV & TValue & ProbT & Skewness & Kurtosis\\\\\n",
       " <chr> & <dbl> & <dbl> & <dbl> & <dbl> & <dbl> & <dbl> & <dbl> & <dbl> & <dbl> & <dbl> & <dbl> & <dbl> & <dbl> & <dbl> & <dbl> & <dbl>\\\\\n",
       "\\hline\n",
       "\t BAD     &    0.0000000 &      1.0000 & 5960 &    0 & 1.994966e-01 &      1189.00 & 3.996555e-01 & 5.176815e-03 & 1.597245e-01 & 1.189000e+03 & 9.517985e+02 & 200.33195 &  38.53656 & 2.720203e-290 & 1.5043167 &  0.2630568\\\\\n",
       "\t LOAN    & 1100.0000000 &  89900.0000 & 5960 &    0 & 1.860797e+04 & 110903500.00 & 1.120748e+04 & 1.451727e+02 & 1.256076e+08 & 2.812185e+12 & 7.484958e+11 &  60.22946 & 128.17819 &  0.000000e+00 & 2.0237807 &  6.9325898\\\\\n",
       "\t MORTDUE & 2063.0000000 & 399550.0000 & 5442 &  518 & 7.376082e+04 & 401406367.20 & 4.445761e+04 & 6.026523e+02 & 1.976479e+09 & 4.036208e+13 & 1.075402e+13 &  60.27266 & 122.39365 &  0.000000e+00 & 1.8144807 &  6.4818663\\\\\n",
       "\t VALUE   & 8000.0000000 & 855909.0000 & 5848 &  112 & 1.017760e+05 & 595186333.04 & 5.738578e+04 & 7.504134e+02 & 3.293127e+09 & 7.983063e+13 & 1.925491e+13 &  56.38436 & 135.62664 &  0.000000e+00 & 3.0533443 & 24.3628049\\\\\n",
       "\t YOJ     &    0.0000000 &     41.0000 & 5445 &  515 & 8.922268e+00 &     48581.75 & 7.573982e+00 & 1.026421e-01 & 5.736521e+01 & 7.457556e+05 & 3.122962e+05 &  84.88853 &  86.92605 &  0.000000e+00 & 0.9884601 &  0.3720725\\\\\n",
       "\t DEROG   &    0.0000000 &     10.0000 & 5252 &  708 & 2.545697e-01 &      1337.00 & 8.460468e-01 & 1.167433e-02 & 7.157951e-01 & 4.099000e+03 & 3.758640e+03 & 332.34388 &  21.80593 & 5.478603e-101 & 5.3208703 & 36.8727634\\\\\n",
       "\t DELINQ  &    0.0000000 &     15.0000 & 5380 &  580 & 4.494424e-01 &      2418.00 & 1.127266e+00 & 1.536863e-02 & 1.270728e+00 & 7.922000e+03 & 6.835248e+03 & 250.81434 &  29.24414 & 1.326786e-174 & 4.0231496 & 23.5654487\\\\\n",
       "\t CLAGE   &    0.0000000 &   1168.2336 & 5652 &  308 & 1.797663e+02 &   1016038.99 & 8.581009e+01 & 1.141398e+00 & 7.363372e+03 & 2.242600e+08 & 4.161041e+07 &  47.73425 & 157.49651 &  0.000000e+00 & 1.3434120 &  7.5995493\\\\\n",
       "\t NINQ    &    0.0000000 &     17.0000 & 5450 &  510 & 1.186055e+00 &      6464.00 & 1.728675e+00 & 2.341613e-02 & 2.988317e+00 & 2.395000e+04 & 1.628334e+04 & 145.74998 &  50.65120 &  0.000000e+00 & 2.6219842 &  9.7865073\\\\\n",
       "\t CLNO    &    0.0000000 &     71.0000 & 5738 &  222 & 2.129610e+01 &    122197.00 & 1.013893e+01 & 1.338480e-01 & 1.027980e+02 & 3.192071e+06 & 5.897519e+05 &  47.60935 & 159.10653 &  0.000000e+00 & 0.7750518 &  1.1576727\\\\\n",
       "\t DEBTINC &    0.5244992 &    203.3121 & 4693 & 1267 & 3.377992e+01 &    158529.14 & 8.601746e+00 & 1.255629e-01 & 7.399004e+01 & 5.702262e+06 & 3.471613e+05 &  25.46408 & 269.02783 &  0.000000e+00 & 2.8523534 & 50.5040415\\\\\n",
       "\\end{tabular}\n"
      ],
      "text/markdown": [
       "**$Summary** = \n",
       "A casDataFrame: 11 × 17\n",
       "\n",
       "| Column &lt;chr&gt; | Min &lt;dbl&gt; | Max &lt;dbl&gt; | N &lt;dbl&gt; | NMiss &lt;dbl&gt; | Mean &lt;dbl&gt; | Sum &lt;dbl&gt; | Std &lt;dbl&gt; | StdErr &lt;dbl&gt; | Var &lt;dbl&gt; | USS &lt;dbl&gt; | CSS &lt;dbl&gt; | CV &lt;dbl&gt; | TValue &lt;dbl&gt; | ProbT &lt;dbl&gt; | Skewness &lt;dbl&gt; | Kurtosis &lt;dbl&gt; |\n",
       "|---|---|---|---|---|---|---|---|---|---|---|---|---|---|---|---|---|\n",
       "| BAD     |    0.0000000 |      1.0000 | 5960 |    0 | 1.994966e-01 |      1189.00 | 3.996555e-01 | 5.176815e-03 | 1.597245e-01 | 1.189000e+03 | 9.517985e+02 | 200.33195 |  38.53656 | 2.720203e-290 | 1.5043167 |  0.2630568 |\n",
       "| LOAN    | 1100.0000000 |  89900.0000 | 5960 |    0 | 1.860797e+04 | 110903500.00 | 1.120748e+04 | 1.451727e+02 | 1.256076e+08 | 2.812185e+12 | 7.484958e+11 |  60.22946 | 128.17819 |  0.000000e+00 | 2.0237807 |  6.9325898 |\n",
       "| MORTDUE | 2063.0000000 | 399550.0000 | 5442 |  518 | 7.376082e+04 | 401406367.20 | 4.445761e+04 | 6.026523e+02 | 1.976479e+09 | 4.036208e+13 | 1.075402e+13 |  60.27266 | 122.39365 |  0.000000e+00 | 1.8144807 |  6.4818663 |\n",
       "| VALUE   | 8000.0000000 | 855909.0000 | 5848 |  112 | 1.017760e+05 | 595186333.04 | 5.738578e+04 | 7.504134e+02 | 3.293127e+09 | 7.983063e+13 | 1.925491e+13 |  56.38436 | 135.62664 |  0.000000e+00 | 3.0533443 | 24.3628049 |\n",
       "| YOJ     |    0.0000000 |     41.0000 | 5445 |  515 | 8.922268e+00 |     48581.75 | 7.573982e+00 | 1.026421e-01 | 5.736521e+01 | 7.457556e+05 | 3.122962e+05 |  84.88853 |  86.92605 |  0.000000e+00 | 0.9884601 |  0.3720725 |\n",
       "| DEROG   |    0.0000000 |     10.0000 | 5252 |  708 | 2.545697e-01 |      1337.00 | 8.460468e-01 | 1.167433e-02 | 7.157951e-01 | 4.099000e+03 | 3.758640e+03 | 332.34388 |  21.80593 | 5.478603e-101 | 5.3208703 | 36.8727634 |\n",
       "| DELINQ  |    0.0000000 |     15.0000 | 5380 |  580 | 4.494424e-01 |      2418.00 | 1.127266e+00 | 1.536863e-02 | 1.270728e+00 | 7.922000e+03 | 6.835248e+03 | 250.81434 |  29.24414 | 1.326786e-174 | 4.0231496 | 23.5654487 |\n",
       "| CLAGE   |    0.0000000 |   1168.2336 | 5652 |  308 | 1.797663e+02 |   1016038.99 | 8.581009e+01 | 1.141398e+00 | 7.363372e+03 | 2.242600e+08 | 4.161041e+07 |  47.73425 | 157.49651 |  0.000000e+00 | 1.3434120 |  7.5995493 |\n",
       "| NINQ    |    0.0000000 |     17.0000 | 5450 |  510 | 1.186055e+00 |      6464.00 | 1.728675e+00 | 2.341613e-02 | 2.988317e+00 | 2.395000e+04 | 1.628334e+04 | 145.74998 |  50.65120 |  0.000000e+00 | 2.6219842 |  9.7865073 |\n",
       "| CLNO    |    0.0000000 |     71.0000 | 5738 |  222 | 2.129610e+01 |    122197.00 | 1.013893e+01 | 1.338480e-01 | 1.027980e+02 | 3.192071e+06 | 5.897519e+05 |  47.60935 | 159.10653 |  0.000000e+00 | 0.7750518 |  1.1576727 |\n",
       "| DEBTINC |    0.5244992 |    203.3121 | 4693 | 1267 | 3.377992e+01 |    158529.14 | 8.601746e+00 | 1.255629e-01 | 7.399004e+01 | 5.702262e+06 | 3.471613e+05 |  25.46408 | 269.02783 |  0.000000e+00 | 2.8523534 | 50.5040415 |\n",
       "\n"
      ],
      "text/plain": [
       "$Summary\n",
       "    Column          Min         Max    N NMiss         Mean          Sum\n",
       "1      BAD    0.0000000      1.0000 5960     0 1.994966e-01      1189.00\n",
       "2     LOAN 1100.0000000  89900.0000 5960     0 1.860797e+04 110903500.00\n",
       "3  MORTDUE 2063.0000000 399550.0000 5442   518 7.376082e+04 401406367.20\n",
       "4    VALUE 8000.0000000 855909.0000 5848   112 1.017760e+05 595186333.04\n",
       "5      YOJ    0.0000000     41.0000 5445   515 8.922268e+00     48581.75\n",
       "6    DEROG    0.0000000     10.0000 5252   708 2.545697e-01      1337.00\n",
       "7   DELINQ    0.0000000     15.0000 5380   580 4.494424e-01      2418.00\n",
       "8    CLAGE    0.0000000   1168.2336 5652   308 1.797663e+02   1016038.99\n",
       "9     NINQ    0.0000000     17.0000 5450   510 1.186055e+00      6464.00\n",
       "10    CLNO    0.0000000     71.0000 5738   222 2.129610e+01    122197.00\n",
       "11 DEBTINC    0.5244992    203.3121 4693  1267 3.377992e+01    158529.14\n",
       "            Std       StdErr          Var          USS          CSS        CV\n",
       "1  3.996555e-01 5.176815e-03 1.597245e-01 1.189000e+03 9.517985e+02 200.33195\n",
       "2  1.120748e+04 1.451727e+02 1.256076e+08 2.812185e+12 7.484958e+11  60.22946\n",
       "3  4.445761e+04 6.026523e+02 1.976479e+09 4.036208e+13 1.075402e+13  60.27266\n",
       "4  5.738578e+04 7.504134e+02 3.293127e+09 7.983063e+13 1.925491e+13  56.38436\n",
       "5  7.573982e+00 1.026421e-01 5.736521e+01 7.457556e+05 3.122962e+05  84.88853\n",
       "6  8.460468e-01 1.167433e-02 7.157951e-01 4.099000e+03 3.758640e+03 332.34388\n",
       "7  1.127266e+00 1.536863e-02 1.270728e+00 7.922000e+03 6.835248e+03 250.81434\n",
       "8  8.581009e+01 1.141398e+00 7.363372e+03 2.242600e+08 4.161041e+07  47.73425\n",
       "9  1.728675e+00 2.341613e-02 2.988317e+00 2.395000e+04 1.628334e+04 145.74998\n",
       "10 1.013893e+01 1.338480e-01 1.027980e+02 3.192071e+06 5.897519e+05  47.60935\n",
       "11 8.601746e+00 1.255629e-01 7.399004e+01 5.702262e+06 3.471613e+05  25.46408\n",
       "      TValue         ProbT  Skewness   Kurtosis\n",
       "1   38.53656 2.720203e-290 1.5043167  0.2630568\n",
       "2  128.17819  0.000000e+00 2.0237807  6.9325898\n",
       "3  122.39365  0.000000e+00 1.8144807  6.4818663\n",
       "4  135.62664  0.000000e+00 3.0533443 24.3628049\n",
       "5   86.92605  0.000000e+00 0.9884601  0.3720725\n",
       "6   21.80593 5.478603e-101 5.3208703 36.8727634\n",
       "7   29.24414 1.326786e-174 4.0231496 23.5654487\n",
       "8  157.49651  0.000000e+00 1.3434120  7.5995493\n",
       "9   50.65120  0.000000e+00 2.6219842  9.7865073\n",
       "10 159.10653  0.000000e+00 0.7750518  1.1576727\n",
       "11 269.02783  0.000000e+00 2.8523534 50.5040415\n"
      ]
     },
     "metadata": {},
     "output_type": "display_data"
    }
   ],
   "source": [
    "cas.simple.summary(\n",
    "  s, \n",
    "  table = list(name='hmeq', caslib='Public')\n",
    ")"
   ]
  },
  {
   "cell_type": "code",
   "execution_count": null,
   "metadata": {},
   "outputs": [],
   "source": []
  }
 ],
 "metadata": {
  "kernelspec": {
   "display_name": "R",
   "language": "R",
   "name": "ir"
  },
  "language_info": {
   "codemirror_mode": "r",
   "file_extension": ".r",
   "mimetype": "text/x-r-source",
   "name": "R",
   "pygments_lexer": "r",
   "version": "3.6.1"
  }
 },
 "nbformat": 4,
 "nbformat_minor": 2
}
